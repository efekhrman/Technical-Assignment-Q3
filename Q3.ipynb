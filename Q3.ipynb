{
 "cells": [
  {
   "cell_type": "code",
   "execution_count": 25,
   "metadata": {},
   "outputs": [
    {
     "name": "stdout",
     "output_type": "stream",
     "text": [
      "Please enter an integer number as x: 17\n",
      "Please enter an integer number as y: 39\n",
      "After the replacement, the value of x is:  39\n",
      "After the replacement, the value of y is:  17\n"
     ]
    }
   ],
   "source": [
    "x = int(input(\"Please enter an integer number as x: \"))\n",
    "y = int(input(\"Please enter an integer number as y: \"))\n",
    "\n",
    "x = x + y\n",
    "y = x - y\n",
    "x = x - y\n",
    "\n",
    "print(\"After the replacement, the value of x is: \", x)\n",
    "print(\"After the replacement, the value of y is: \", y)"
   ]
  },
  {
   "cell_type": "code",
   "execution_count": null,
   "metadata": {},
   "outputs": [],
   "source": []
  }
 ],
 "metadata": {
  "kernelspec": {
   "display_name": "Python 3",
   "language": "python",
   "name": "python3"
  },
  "language_info": {
   "codemirror_mode": {
    "name": "ipython",
    "version": 3
   },
   "file_extension": ".py",
   "mimetype": "text/x-python",
   "name": "python",
   "nbconvert_exporter": "python",
   "pygments_lexer": "ipython3",
   "version": "3.8.5"
  }
 },
 "nbformat": 4,
 "nbformat_minor": 4
}
